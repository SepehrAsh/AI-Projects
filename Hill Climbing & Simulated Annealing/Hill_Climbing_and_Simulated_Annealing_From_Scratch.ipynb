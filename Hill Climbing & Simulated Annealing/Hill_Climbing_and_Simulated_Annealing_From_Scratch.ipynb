{
  "nbformat": 4,
  "nbformat_minor": 0,
  "metadata": {
    "colab": {
      "name": "Hill Climbing and Simulated Annealing From Scratch.ipynb",
      "provenance": [],
      "collapsed_sections": [],
      "toc_visible": true
    },
    "kernelspec": {
      "name": "python3",
      "display_name": "Python 3"
    }
  },
  "cells": [
    {
      "cell_type": "markdown",
      "metadata": {
        "id": "MP0yJV23ulhX"
      },
      "source": [
        "#Local Search Algorithms - Hill Climbing and Simulated Annealing"
      ]
    },
    {
      "cell_type": "markdown",
      "metadata": {
        "id": "6HcPz8OluuyO"
      },
      "source": [
        "Program For Solving n Equations With m Unknowns (m > n)"
      ]
    },
    {
      "cell_type": "markdown",
      "metadata": {
        "id": "nn9IWhdFu4Nr"
      },
      "source": [
        "Libraries"
      ]
    },
    {
      "cell_type": "code",
      "metadata": {
        "id": "62QtaDyltgi2"
      },
      "source": [
        "import random\r\n",
        "import sys\r\n",
        "import math\r\n",
        "import time"
      ],
      "execution_count": 20,
      "outputs": []
    },
    {
      "cell_type": "markdown",
      "metadata": {
        "id": "w_BMQIodvqQh"
      },
      "source": [
        "Functions"
      ]
    },
    {
      "cell_type": "code",
      "metadata": {
        "id": "MOrD4K3IvLGh"
      },
      "source": [
        "def delta_e(current, next):\r\n",
        "    return difference(current) - difference(next)\r\n",
        "\r\n",
        "\r\n",
        "def prob(current, next, t):\r\n",
        "    return math.exp(delta_e(current, next) / t)\r\n",
        "\r\n",
        "\r\n",
        "def difference(nums):\r\n",
        "    nums = list(nums)\r\n",
        "    differ = 0\r\n",
        "    for i in range(0, equations.__len__()):\r\n",
        "        left = 0\r\n",
        "        for j in range(0, equations[i].__len__() - 1):\r\n",
        "            left += equations[i][j] * nums[j]\r\n",
        "        differ += abs(equations[i][-1] - left)\r\n",
        "    return differ\r\n",
        "\r\n",
        "\r\n",
        "def neighbours(source, step_len):\r\n",
        "    source = list(source)\r\n",
        "    neighbour = []\r\n",
        "\r\n",
        "    for i in range(0, unknowns_count):\r\n",
        "        temp_back = source.copy()\r\n",
        "        temp_forward = source.copy()\r\n",
        "        temp_back[i] = source[i] - step_len\r\n",
        "        temp_forward[i] = source[i] + step_len\r\n",
        "        neighbour.append(temp_back)\r\n",
        "        neighbour.append(temp_forward)\r\n",
        "    return neighbour\r\n",
        "\r\n",
        "\r\n",
        "def best_neighbour(neighbours, difference_now, now):\r\n",
        "    neighbours = list(neighbours)\r\n",
        "    min_value = sys.maxsize\r\n",
        "    min_index = sys.maxsize\r\n",
        "    differences = 0\r\n",
        "\r\n",
        "    for i in range(0, neighbours.__len__()):\r\n",
        "\r\n",
        "        differences = difference(neighbours[i])\r\n",
        "        neighbours[i][neighbours[i].__len__() - 1] = differences\r\n",
        "        if differences < min_value:\r\n",
        "            min_value = differences\r\n",
        "            min_index = i\r\n",
        "\r\n",
        "    if difference_now <= min_value:\r\n",
        "        return now\r\n",
        "    return neighbours[min_index]"
      ],
      "execution_count": 21,
      "outputs": []
    },
    {
      "cell_type": "markdown",
      "metadata": {
        "id": "TBcAG7Mcvtz3"
      },
      "source": [
        "Importing Data"
      ]
    },
    {
      "cell_type": "code",
      "metadata": {
        "colab": {
          "base_uri": "https://localhost:8080/"
        },
        "id": "P0ArpSW-wdxB",
        "outputId": "2d0fceee-7aff-4a7d-d21b-0a86167c3501"
      },
      "source": [
        "from google.colab import drive\r\n",
        "drive.mount('/content/drive')\r\n",
        "\r\n",
        "with open(\"/content/drive/MyDrive/Datasets/new_example.txt\") as input_file:\r\n",
        "    print(input_file)\r\n",
        "    equations = []\r\n",
        "    for line in input_file:\r\n",
        "        temp = []\r\n",
        "        for number in line.split(\",\"):\r\n",
        "            temp.append(float(number))\r\n",
        "\r\n",
        "        equations.append(temp)\r\n",
        "    print(equations)\r\n",
        "    unknowns_count = equations[0].__len__() - 1"
      ],
      "execution_count": 22,
      "outputs": [
        {
          "output_type": "stream",
          "text": [
            "Drive already mounted at /content/drive; to attempt to forcibly remount, call drive.mount(\"/content/drive\", force_remount=True).\n",
            "<_io.TextIOWrapper name='/content/drive/MyDrive/Datasets/new_example.txt' mode='r' encoding='UTF-8'>\n",
            "[[0.25, 0.75, 0.005, 0.887, 0.25, 0.78, 0.392, 0.005, 0.46, 0.61, 35.59], [0.23, 0.07, 0.35, 0.75, 0.2, 0.68, 0.89, 0.15, 0.27, 0.64, 49.25], [0.5828, 0.2091, 0.4154, 0.214, 0.6833, 0.4514, 0.0, 0.0, 0.6085, 0.72, -0.72], [0.76, 0.059, 0.7889, 0.26, 0.69, 0.0928, 0.63, 0.72, 0.23, 0.17, 93.225], [0.5155, 0.0, 0.0, 0.7833, 0.8744, 0.32, 0.8392, 0.0272, 0.0164, 0.0, -54.9], [0.55, 0.91, 0.99, 0.64, 0.05, 0.493, 0.93, 0.58, 0.61, 0.69, 223.71], [0.01, 0.006, 0.7313, 0.567, 0.058, 0.513, 0.82, 0.03, 0.3527, 0.41, -495.6]]\n"
          ],
          "name": "stdout"
        }
      ]
    },
    {
      "cell_type": "markdown",
      "metadata": {
        "id": "3ajvdTVsvwTV"
      },
      "source": [
        "Getting Intervals And Step Length From User"
      ]
    },
    {
      "cell_type": "code",
      "metadata": {
        "colab": {
          "base_uri": "https://localhost:8080/"
        },
        "id": "RojJAq3Yvfdj",
        "outputId": "80921094-41ed-4d5d-eca7-02831d4c7bf6"
      },
      "source": [
        "print(\"Please Enter The Intervals(In This Format : Start End): \")\r\n",
        "intervals = input().split(\" \")\r\n",
        "print(\"Please Enter The Step: \")\r\n",
        "step = float(input())"
      ],
      "execution_count": 24,
      "outputs": [
        {
          "output_type": "stream",
          "text": [
            "Please Enter The Intervals(In This Format : Start End): \n",
            "-1000 1000\n",
            "Please Enter The Step: \n",
            "0.1\n"
          ],
          "name": "stdout"
        }
      ]
    },
    {
      "cell_type": "markdown",
      "metadata": {
        "id": "PezBiGYuv2mE"
      },
      "source": [
        "Hill Climb Algorithm From Scratch"
      ]
    },
    {
      "cell_type": "markdown",
      "metadata": {
        "id": "yRfn8HbAz6pS"
      },
      "source": [
        "The implementation of the algorithm is that it first creates a random initial state. Then, as long as at least one of the neighbors in the current state has less MSE than the current state (the current state is not a local minimum), it selects the best neighbor as the next state."
      ]
    },
    {
      "cell_type": "code",
      "metadata": {
        "colab": {
          "base_uri": "https://localhost:8080/"
        },
        "id": "sGwuy-hWvQCe",
        "outputId": "4edbdc2c-4598-493f-fa16-184fbfab44d7"
      },
      "source": [
        "# Hill Climb\r\n",
        "\r\n",
        "random_assumption = [random.uniform(int(intervals[0]), int(intervals[1])) for i in range(0, unknowns_count)]\r\n",
        "first_assumption = random_assumption.copy()\r\n",
        "first_assumption.append(sys.maxsize)\r\n",
        "dif = first_assumption[-1]\r\n",
        "print(\"Random Assumption: \" + random_assumption.__str__())\r\n",
        "\r\n",
        "hill_climb_start = time.time()\r\n",
        "\r\n",
        "for i in range(100000):\r\n",
        "    dif = first_assumption[-1]\r\n",
        "    first_assumption = best_neighbour(neighbours(first_assumption, step), dif, first_assumption)\r\n",
        "    if first_assumption.__eq__(best_neighbour(neighbours(first_assumption, step), dif, first_assumption)):\r\n",
        "        break\r\n",
        "\r\n",
        "first_assumption.__delitem__(-1)"
      ],
      "execution_count": 25,
      "outputs": [
        {
          "output_type": "stream",
          "text": [
            "Random Assumption: [-485.9452136546121, -120.08704272717296, -286.31084023022163, 784.115124493741, -208.4426980382757, 499.9451430902452, -563.1791997999082, 715.8805939848407, 892.8801205313503, -772.7172370593809]\n"
          ],
          "name": "stdout"
        }
      ]
    },
    {
      "cell_type": "code",
      "metadata": {
        "colab": {
          "base_uri": "https://localhost:8080/"
        },
        "id": "XhnNfknnzWxu",
        "outputId": "b8d14403-6c7e-4497-ca7f-9789429df533"
      },
      "source": [
        "print(\"Hill Climbing\")\r\n",
        "print(\"Answers: \" + first_assumption.__str__())\r\n",
        "print(\"Error: \" + difference(first_assumption).__str__())\r\n",
        "print(\"Time Spent In Seconds \" + (time.time() - hill_climb_start).__str__())"
      ],
      "execution_count": 26,
      "outputs": [
        {
          "output_type": "stream",
          "text": [
            "Hill Climbing\n",
            "Answers: [-333.4452136545774, -120.18704272717295, -86.61084023022437, 711.0151244937243, -144.74269803827931, 383.3451430902187, -563.1791997999082, 805.080593984861, 892.8801205313503, -757.1172370593773]\n",
            "Error: 1056.4823157626001\n",
            "Time Spent In Seconds 8.537075281143188\n"
          ],
          "name": "stdout"
        }
      ]
    },
    {
      "cell_type": "markdown",
      "metadata": {
        "id": "9I42shyGv4uX"
      },
      "source": [
        "Simulated Annealing Algorithm From Scratch"
      ]
    },
    {
      "cell_type": "markdown",
      "metadata": {
        "id": "FDAZcDgd0Oef"
      },
      "source": [
        "Simulated annealing is a probabilistic technique for approximating the global optimum of a given function. Specifically, it is a metaheuristic to approximate global optimization in a large search space for an optimization problem."
      ]
    },
    {
      "cell_type": "code",
      "metadata": {
        "id": "VKfYtln7vSlS"
      },
      "source": [
        "# Simulated Annealing\r\n",
        "\r\n",
        "simulated_annealing_start = time.time()\r\n",
        "neighbours_list = []\r\n",
        "flag = 0\r\n",
        "for k in range(1, i):\r\n",
        "    flag = 0\r\n",
        "    neighbours_list = neighbours(first_assumption, 0.1)\r\n",
        "    potential_next = neighbours_list[random.randint(0, neighbours_list.__len__() - 1)]\r\n",
        "    if delta_e(first_assumption, potential_next) > 0:\r\n",
        "        first_assumption = potential_next.copy()\r\n",
        "\r\n",
        "    else:\r\n",
        "        if prob(first_assumption, potential_next, 1 / k) > random.random():\r\n",
        "            first_assumption = potential_next.copy()"
      ],
      "execution_count": 27,
      "outputs": []
    },
    {
      "cell_type": "code",
      "metadata": {
        "id": "4d_hS32LzZZK"
      },
      "source": [
        "print(\"Simulated Annealing\")\r\n",
        "print(\"Answers: \" + first_assumption.__str__())\r\n",
        "print(\"Error:\" + difference(first_assumption).__str__())\r\n",
        "print(\"Time Spent In Seconds \" + (time.time() - simulated_annealing_start).__str__())"
      ],
      "execution_count": null,
      "outputs": []
    }
  ]
}