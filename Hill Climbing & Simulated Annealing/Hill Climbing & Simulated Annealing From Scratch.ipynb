{
  "nbformat": 4,
  "nbformat_minor": 0,
  "metadata": {
    "colab": {
      "name": "Hill Climbing and Simulated Annealing From Scratch.ipynb",
      "provenance": [],
      "collapsed_sections": [],
      "toc_visible": true
    },
    "kernelspec": {
      "name": "python3",
      "display_name": "Python 3"
    }
  },
  "cells": [
    {
      "cell_type": "markdown",
      "metadata": {
        "id": "MP0yJV23ulhX"
      },
      "source": [
        "#Local Search Algorithms - Hill Climbing and Simulated Annealing"
      ]
    },
    {
      "cell_type": "markdown",
      "metadata": {
        "id": "6HcPz8OluuyO"
      },
      "source": [
        "Program For Solving n Equations With m Unknowns (m > n)"
      ]
    },
    {
      "cell_type": "markdown",
      "metadata": {
        "id": "nn9IWhdFu4Nr"
      },
      "source": [
        "Libraries"
      ]
    },
    {
      "cell_type": "code",
      "metadata": {
        "id": "62QtaDyltgi2"
      },
      "source": [
        "import random\r\n",
        "import sys\r\n",
        "import math\r\n",
        "import time"
      ],
      "execution_count": 28,
      "outputs": []
    },
    {
      "cell_type": "markdown",
      "metadata": {
        "id": "w_BMQIodvqQh"
      },
      "source": [
        "Functions"
      ]
    },
    {
      "cell_type": "code",
      "metadata": {
        "id": "MOrD4K3IvLGh"
      },
      "source": [
        "def delta_e(current, next):\r\n",
        "    return difference(current) - difference(next)\r\n",
        "\r\n",
        "\r\n",
        "def prob(current, next, t):\r\n",
        "    return math.exp(delta_e(current, next) / t)\r\n",
        "\r\n",
        "\r\n",
        "def difference(nums):\r\n",
        "    nums = list(nums)\r\n",
        "    differ = 0\r\n",
        "    for i in range(0, equations.__len__()):\r\n",
        "        left = 0\r\n",
        "        for j in range(0, equations[i].__len__() - 1):\r\n",
        "            left += equations[i][j] * nums[j]\r\n",
        "        differ += abs(equations[i][-1] - left)\r\n",
        "    return differ\r\n",
        "\r\n",
        "\r\n",
        "def neighbours(source, step_len):\r\n",
        "    source = list(source)\r\n",
        "    neighbour = []\r\n",
        "\r\n",
        "    for i in range(0, unknowns_count):\r\n",
        "        temp_back = source.copy()\r\n",
        "        temp_forward = source.copy()\r\n",
        "        temp_back[i] = source[i] - step_len\r\n",
        "        temp_forward[i] = source[i] + step_len\r\n",
        "        neighbour.append(temp_back)\r\n",
        "        neighbour.append(temp_forward)\r\n",
        "    return neighbour\r\n",
        "\r\n",
        "\r\n",
        "def best_neighbour(neighbours, difference_now, now):\r\n",
        "    neighbours = list(neighbours)\r\n",
        "    min_value = sys.maxsize\r\n",
        "    min_index = sys.maxsize\r\n",
        "    differences = 0\r\n",
        "\r\n",
        "    for i in range(0, neighbours.__len__()):\r\n",
        "\r\n",
        "        differences = difference(neighbours[i])\r\n",
        "        neighbours[i][neighbours[i].__len__() - 1] = differences\r\n",
        "        if differences < min_value:\r\n",
        "            min_value = differences\r\n",
        "            min_index = i\r\n",
        "\r\n",
        "    if difference_now <= min_value:\r\n",
        "        return now\r\n",
        "    return neighbours[min_index]"
      ],
      "execution_count": 29,
      "outputs": []
    },
    {
      "cell_type": "markdown",
      "metadata": {
        "id": "TBcAG7Mcvtz3"
      },
      "source": [
        "Importing Data"
      ]
    },
    {
      "cell_type": "code",
      "metadata": {
        "colab": {
          "base_uri": "https://localhost:8080/"
        },
        "id": "P0ArpSW-wdxB",
        "outputId": "9496e8bd-b93d-4aa2-e5cf-2ab49787020f"
      },
      "source": [
        "from google.colab import drive\r\n",
        "drive.mount('/content/drive')\r\n",
        "\r\n",
        "with open(\"/content/drive/MyDrive/Datasets/new_example.txt\") as input_file:\r\n",
        "    print(input_file)\r\n",
        "    equations = []\r\n",
        "    for line in input_file:\r\n",
        "        temp = []\r\n",
        "        for number in line.split(\",\"):\r\n",
        "            temp.append(float(number))\r\n",
        "\r\n",
        "        equations.append(temp)\r\n",
        "    print(equations)\r\n",
        "    unknowns_count = equations[0].__len__() - 1"
      ],
      "execution_count": 30,
      "outputs": [
        {
          "output_type": "stream",
          "text": [
            "Drive already mounted at /content/drive; to attempt to forcibly remount, call drive.mount(\"/content/drive\", force_remount=True).\n",
            "<_io.TextIOWrapper name='/content/drive/MyDrive/Datasets/new_example.txt' mode='r' encoding='UTF-8'>\n",
            "[[0.25, 0.75, 0.005, 0.887, 0.25, 0.78, 0.392, 0.005, 0.46, 0.61, 35.59], [0.23, 0.07, 0.35, 0.75, 0.2, 0.68, 0.89, 0.15, 0.27, 0.64, 49.25], [0.5828, 0.2091, 0.4154, 0.214, 0.6833, 0.4514, 0.0, 0.0, 0.6085, 0.72, -0.72], [0.76, 0.059, 0.7889, 0.26, 0.69, 0.0928, 0.63, 0.72, 0.23, 0.17, 93.225], [0.5155, 0.0, 0.0, 0.7833, 0.8744, 0.32, 0.8392, 0.0272, 0.0164, 0.0, -54.9], [0.55, 0.91, 0.99, 0.64, 0.05, 0.493, 0.93, 0.58, 0.61, 0.69, 223.71], [0.01, 0.006, 0.7313, 0.567, 0.058, 0.513, 0.82, 0.03, 0.3527, 0.41, -495.6]]\n"
          ],
          "name": "stdout"
        }
      ]
    },
    {
      "cell_type": "markdown",
      "metadata": {
        "id": "3ajvdTVsvwTV"
      },
      "source": [
        "Getting Intervals And Step Length From User"
      ]
    },
    {
      "cell_type": "code",
      "metadata": {
        "colab": {
          "base_uri": "https://localhost:8080/"
        },
        "id": "RojJAq3Yvfdj",
        "outputId": "598c31a7-4161-4fdb-f35c-b14d4926ab11"
      },
      "source": [
        "print(\"Please Enter The Intervals(In This Format : Start End): \")\r\n",
        "intervals = input().split(\" \")\r\n",
        "print(\"Please Enter The Step: \")\r\n",
        "step = float(input())"
      ],
      "execution_count": 31,
      "outputs": [
        {
          "output_type": "stream",
          "text": [
            "Please Enter The Intervals(In This Format : Start End): \n",
            "-1000 1000\n",
            "Please Enter The Step: \n",
            "0.1\n"
          ],
          "name": "stdout"
        }
      ]
    },
    {
      "cell_type": "markdown",
      "metadata": {
        "id": "PezBiGYuv2mE"
      },
      "source": [
        "Hill Climb Algorithm From Scratch"
      ]
    },
    {
      "cell_type": "markdown",
      "metadata": {
        "id": "yRfn8HbAz6pS"
      },
      "source": [
        "The implementation of the algorithm is that it first creates a random initial state. Then, as long as at least one of the neighbors in the current state has less MSE than the current state (the current state is not a local minimum), it selects the best neighbor as the next state."
      ]
    },
    {
      "cell_type": "code",
      "metadata": {
        "colab": {
          "base_uri": "https://localhost:8080/"
        },
        "id": "sGwuy-hWvQCe",
        "outputId": "16da58bd-c8c0-46ff-98db-05d3291e7f58"
      },
      "source": [
        "# Hill Climb\r\n",
        "\r\n",
        "random_assumption = [random.uniform(int(intervals[0]), int(intervals[1])) for i in range(0, unknowns_count)]\r\n",
        "first_assumption = random_assumption.copy()\r\n",
        "first_assumption.append(sys.maxsize)\r\n",
        "dif = first_assumption[-1]\r\n",
        "print(\"Random Assumption: \" + random_assumption.__str__())\r\n",
        "\r\n",
        "hill_climb_start = time.time()\r\n",
        "\r\n",
        "for i in range(100000):\r\n",
        "    dif = first_assumption[-1]\r\n",
        "    first_assumption = best_neighbour(neighbours(first_assumption, step), dif, first_assumption)\r\n",
        "    if first_assumption.__eq__(best_neighbour(neighbours(first_assumption, step), dif, first_assumption)):\r\n",
        "        break\r\n",
        "\r\n",
        "first_assumption.__delitem__(-1)"
      ],
      "execution_count": 32,
      "outputs": [
        {
          "output_type": "stream",
          "text": [
            "Random Assumption: [-595.8828481494427, 243.8059877266021, -867.3709154447091, -875.9175314617152, 164.2501439239952, 453.58631646520143, 403.3586261316884, -23.443404261794626, -863.6471232253629, -133.809421338045]\n"
          ],
          "name": "stdout"
        }
      ]
    },
    {
      "cell_type": "code",
      "metadata": {
        "colab": {
          "base_uri": "https://localhost:8080/"
        },
        "id": "XhnNfknnzWxu",
        "outputId": "03c6d7f2-364e-4acc-cdba-89ea90c523f8"
      },
      "source": [
        "print(\"Hill Climbing\")\r\n",
        "print(\"Answers: \" + first_assumption.__str__())\r\n",
        "print(\"Error: \" + difference(first_assumption).__str__())\r\n",
        "print(\"Time Spent In Seconds \" + (time.time() - hill_climb_start).__str__())"
      ],
      "execution_count": 33,
      "outputs": [
        {
          "output_type": "stream",
          "text": [
            "Hill Climbing\n",
            "Answers: [-592.882848149442, 535.1059877266648, -93.27091544457937, -875.9175314617152, 164.2501439239952, 448.5863164652003, 791.7586261317767, -21.743404261794602, -863.6471232253629, 419.59057866197855]\n",
            "Error: 1591.2051397113805\n",
            "Time Spent In Seconds 8.95470404624939\n"
          ],
          "name": "stdout"
        }
      ]
    },
    {
      "cell_type": "markdown",
      "metadata": {
        "id": "9I42shyGv4uX"
      },
      "source": [
        "Simulated Annealing Algorithm From Scratch"
      ]
    },
    {
      "cell_type": "markdown",
      "metadata": {
        "id": "FDAZcDgd0Oef"
      },
      "source": [
        "Simulated annealing is a probabilistic technique for approximating the global optimum of a given function. Specifically, it is a metaheuristic to approximate global optimization in a large search space for an optimization problem."
      ]
    },
    {
      "cell_type": "code",
      "metadata": {
        "id": "VKfYtln7vSlS"
      },
      "source": [
        "# Simulated Annealing\r\n",
        "\r\n",
        "simulated_annealing_start = time.time()\r\n",
        "neighbours_list = []\r\n",
        "flag = 0\r\n",
        "for k in range(1, i):\r\n",
        "    flag = 0\r\n",
        "    neighbours_list = neighbours(first_assumption, 0.1)\r\n",
        "    potential_next = neighbours_list[random.randint(0, neighbours_list.__len__() - 1)]\r\n",
        "    if delta_e(first_assumption, potential_next) > 0:\r\n",
        "        first_assumption = potential_next.copy()\r\n",
        "\r\n",
        "    else:\r\n",
        "        if prob(first_assumption, potential_next, 1 / k) > random.random():\r\n",
        "            first_assumption = potential_next.copy()"
      ],
      "execution_count": 34,
      "outputs": []
    },
    {
      "cell_type": "code",
      "metadata": {
        "colab": {
          "base_uri": "https://localhost:8080/"
        },
        "id": "4d_hS32LzZZK",
        "outputId": "4ebf719e-d086-49d5-c4c7-de958f799bd8"
      },
      "source": [
        "print(\"Simulated Annealing\")\r\n",
        "print(\"Answers: \" + first_assumption.__str__())\r\n",
        "print(\"Error:\" + difference(first_assumption).__str__())\r\n",
        "print(\"Time Spent In Seconds \" + (time.time() - simulated_annealing_start).__str__())"
      ],
      "execution_count": 35,
      "outputs": [
        {
          "output_type": "stream",
          "text": [
            "Simulated Annealing\n",
            "Answers: [-567.6828481494363, 551.3059877266685, -98.0709154445791, -893.7175314617192, 187.3501439239939, 439.7863164651983, 771.7586261317722, -21.043404261794592, -843.3471232253582, 414.5905786619774]\n",
            "Error:1487.2679097113578\n",
            "Time Spent In Seconds 1.0053527355194092\n"
          ],
          "name": "stdout"
        }
      ]
    }
  ]
}